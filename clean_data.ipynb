{
 "cells": [
  {
   "cell_type": "code",
   "execution_count": 95,
   "id": "baa71208",
   "metadata": {},
   "outputs": [],
   "source": [
    "import numpy as np\n",
    "import pandas as pd\n",
    "import re"
   ]
  },
  {
   "cell_type": "code",
   "execution_count": 155,
   "id": "dc6d97df",
   "metadata": {},
   "outputs": [],
   "source": [
    "stock_name = \"AMZN\""
   ]
  },
  {
   "cell_type": "markdown",
   "id": "e66e651a",
   "metadata": {},
   "source": [
    "# clean message data"
   ]
  },
  {
   "cell_type": "code",
   "execution_count": 208,
   "id": "e9a46fd7",
   "metadata": {},
   "outputs": [],
   "source": [
    "df = pd.read_csv('data/AMZN_2012-06-21_34200000_57600000_message_5.csv')\n",
    "df.columns = [\"time\", \"event type lobster\", \"order id\", \"size\", \"price\", \"direction\"]\n",
    "relevant_rows_bool = df[\"event type lobster\"].isin([1,3])\n",
    "df = df[relevant_rows_bool].reset_index(drop=True)"
   ]
  },
  {
   "cell_type": "code",
   "execution_count": 209,
   "id": "770f888a",
   "metadata": {
    "scrolled": true
   },
   "outputs": [],
   "source": [
    "df['event type thesis'] = None"
   ]
  },
  {
   "cell_type": "code",
   "execution_count": 210,
   "id": "7e7a6557",
   "metadata": {
    "scrolled": false
   },
   "outputs": [
    {
     "name": "stderr",
     "output_type": "stream",
     "text": [
      "C:\\Users\\jobei\\AppData\\Local\\Temp\\ipykernel_17040\\1620800425.py:1: SettingWithCopyWarning: \n",
      "A value is trying to be set on a copy of a slice from a DataFrame\n",
      "\n",
      "See the caveats in the documentation: https://pandas.pydata.org/pandas-docs/stable/user_guide/indexing.html#returning-a-view-versus-a-copy\n",
      "  df['event type thesis'][(df['direction'] == -1 ) & (df['event type lobster'] == 1)] = 2\n",
      "C:\\Users\\jobei\\AppData\\Local\\Temp\\ipykernel_17040\\1620800425.py:2: SettingWithCopyWarning: \n",
      "A value is trying to be set on a copy of a slice from a DataFrame\n",
      "\n",
      "See the caveats in the documentation: https://pandas.pydata.org/pandas-docs/stable/user_guide/indexing.html#returning-a-view-versus-a-copy\n",
      "  df['event type thesis'][(df['direction'] == 1 ) & (df['event type lobster'] == 1)] = 0\n",
      "C:\\Users\\jobei\\AppData\\Local\\Temp\\ipykernel_17040\\1620800425.py:3: SettingWithCopyWarning: \n",
      "A value is trying to be set on a copy of a slice from a DataFrame\n",
      "\n",
      "See the caveats in the documentation: https://pandas.pydata.org/pandas-docs/stable/user_guide/indexing.html#returning-a-view-versus-a-copy\n",
      "  df['event type thesis'][(df['direction'] == -1 ) & (df['event type lobster'] == 3)] = 3\n",
      "C:\\Users\\jobei\\AppData\\Local\\Temp\\ipykernel_17040\\1620800425.py:4: SettingWithCopyWarning: \n",
      "A value is trying to be set on a copy of a slice from a DataFrame\n",
      "\n",
      "See the caveats in the documentation: https://pandas.pydata.org/pandas-docs/stable/user_guide/indexing.html#returning-a-view-versus-a-copy\n",
      "  df['event type thesis'][(df['direction'] == 1 ) & (df['event type lobster'] == 3)] = 1\n"
     ]
    }
   ],
   "source": [
    "df['event type thesis'][(df['direction'] == -1 ) & (df['event type lobster'] == 1)] = 2\n",
    "df['event type thesis'][(df['direction'] == 1 ) & (df['event type lobster'] == 1)] = 0\n",
    "df['event type thesis'][(df['direction'] == -1 ) & (df['event type lobster'] == 3)] = 3\n",
    "df['event type thesis'][(df['direction'] == 1 ) & (df['event type lobster'] == 3)] = 1"
   ]
  },
  {
   "cell_type": "code",
   "execution_count": 212,
   "id": "61c6a6d3",
   "metadata": {},
   "outputs": [
    {
     "data": {
      "text/html": [
       "<div>\n",
       "<style scoped>\n",
       "    .dataframe tbody tr th:only-of-type {\n",
       "        vertical-align: middle;\n",
       "    }\n",
       "\n",
       "    .dataframe tbody tr th {\n",
       "        vertical-align: top;\n",
       "    }\n",
       "\n",
       "    .dataframe thead th {\n",
       "        text-align: right;\n",
       "    }\n",
       "</style>\n",
       "<table border=\"1\" class=\"dataframe\">\n",
       "  <thead>\n",
       "    <tr style=\"text-align: right;\">\n",
       "      <th></th>\n",
       "      <th>time</th>\n",
       "      <th>event type lobster</th>\n",
       "      <th>order id</th>\n",
       "      <th>size</th>\n",
       "      <th>price</th>\n",
       "      <th>direction</th>\n",
       "      <th>event type thesis</th>\n",
       "    </tr>\n",
       "  </thead>\n",
       "  <tbody>\n",
       "    <tr>\n",
       "      <th>0</th>\n",
       "      <td>34200.189608</td>\n",
       "      <td>1</td>\n",
       "      <td>11885113</td>\n",
       "      <td>21</td>\n",
       "      <td>2238100</td>\n",
       "      <td>1</td>\n",
       "      <td>0</td>\n",
       "    </tr>\n",
       "    <tr>\n",
       "      <th>1</th>\n",
       "      <td>34200.189608</td>\n",
       "      <td>1</td>\n",
       "      <td>3911376</td>\n",
       "      <td>20</td>\n",
       "      <td>2239600</td>\n",
       "      <td>-1</td>\n",
       "      <td>2</td>\n",
       "    </tr>\n",
       "    <tr>\n",
       "      <th>2</th>\n",
       "      <td>34200.189608</td>\n",
       "      <td>1</td>\n",
       "      <td>11534792</td>\n",
       "      <td>100</td>\n",
       "      <td>2237500</td>\n",
       "      <td>1</td>\n",
       "      <td>0</td>\n",
       "    </tr>\n",
       "    <tr>\n",
       "      <th>3</th>\n",
       "      <td>34200.189608</td>\n",
       "      <td>1</td>\n",
       "      <td>1365373</td>\n",
       "      <td>13</td>\n",
       "      <td>2240000</td>\n",
       "      <td>-1</td>\n",
       "      <td>2</td>\n",
       "    </tr>\n",
       "    <tr>\n",
       "      <th>4</th>\n",
       "      <td>34200.189608</td>\n",
       "      <td>1</td>\n",
       "      <td>11474176</td>\n",
       "      <td>2</td>\n",
       "      <td>2236500</td>\n",
       "      <td>1</td>\n",
       "      <td>0</td>\n",
       "    </tr>\n",
       "    <tr>\n",
       "      <th>...</th>\n",
       "      <td>...</td>\n",
       "      <td>...</td>\n",
       "      <td>...</td>\n",
       "      <td>...</td>\n",
       "      <td>...</td>\n",
       "      <td>...</td>\n",
       "      <td>...</td>\n",
       "    </tr>\n",
       "    <tr>\n",
       "      <th>144061</th>\n",
       "      <td>57599.545699</td>\n",
       "      <td>3</td>\n",
       "      <td>287094952</td>\n",
       "      <td>60</td>\n",
       "      <td>2206400</td>\n",
       "      <td>-1</td>\n",
       "      <td>3</td>\n",
       "    </tr>\n",
       "    <tr>\n",
       "      <th>144062</th>\n",
       "      <td>57599.903989</td>\n",
       "      <td>3</td>\n",
       "      <td>287142900</td>\n",
       "      <td>100</td>\n",
       "      <td>2206200</td>\n",
       "      <td>-1</td>\n",
       "      <td>3</td>\n",
       "    </tr>\n",
       "    <tr>\n",
       "      <th>144063</th>\n",
       "      <td>57599.955242</td>\n",
       "      <td>3</td>\n",
       "      <td>286967592</td>\n",
       "      <td>170</td>\n",
       "      <td>2206900</td>\n",
       "      <td>-1</td>\n",
       "      <td>3</td>\n",
       "    </tr>\n",
       "    <tr>\n",
       "      <th>144064</th>\n",
       "      <td>57599.958245</td>\n",
       "      <td>1</td>\n",
       "      <td>287174077</td>\n",
       "      <td>100</td>\n",
       "      <td>2206300</td>\n",
       "      <td>-1</td>\n",
       "      <td>2</td>\n",
       "    </tr>\n",
       "    <tr>\n",
       "      <th>144065</th>\n",
       "      <td>57599.959360</td>\n",
       "      <td>3</td>\n",
       "      <td>287174077</td>\n",
       "      <td>100</td>\n",
       "      <td>2206300</td>\n",
       "      <td>-1</td>\n",
       "      <td>3</td>\n",
       "    </tr>\n",
       "  </tbody>\n",
       "</table>\n",
       "<p>144066 rows × 7 columns</p>\n",
       "</div>"
      ],
      "text/plain": [
       "                time  event type lobster   order id  size    price  direction  \\\n",
       "0       34200.189608                   1   11885113    21  2238100          1   \n",
       "1       34200.189608                   1    3911376    20  2239600         -1   \n",
       "2       34200.189608                   1   11534792   100  2237500          1   \n",
       "3       34200.189608                   1    1365373    13  2240000         -1   \n",
       "4       34200.189608                   1   11474176     2  2236500          1   \n",
       "...              ...                 ...        ...   ...      ...        ...   \n",
       "144061  57599.545699                   3  287094952    60  2206400         -1   \n",
       "144062  57599.903989                   3  287142900   100  2206200         -1   \n",
       "144063  57599.955242                   3  286967592   170  2206900         -1   \n",
       "144064  57599.958245                   1  287174077   100  2206300         -1   \n",
       "144065  57599.959360                   3  287174077   100  2206300         -1   \n",
       "\n",
       "       event type thesis  \n",
       "0                      0  \n",
       "1                      2  \n",
       "2                      0  \n",
       "3                      2  \n",
       "4                      0  \n",
       "...                  ...  \n",
       "144061                 3  \n",
       "144062                 3  \n",
       "144063                 3  \n",
       "144064                 2  \n",
       "144065                 3  \n",
       "\n",
       "[144066 rows x 7 columns]"
      ]
     },
     "execution_count": 212,
     "metadata": {},
     "output_type": "execute_result"
    }
   ],
   "source": [
    "df"
   ]
  },
  {
   "cell_type": "code",
   "execution_count": 211,
   "id": "aca9d6b6",
   "metadata": {},
   "outputs": [],
   "source": [
    "df.to_csv(f\"data/clean/{stock_name}_message_data.csv\")"
   ]
  },
  {
   "cell_type": "markdown",
   "id": "dac79f3b",
   "metadata": {},
   "source": [
    "# Clean orderbook data"
   ]
  },
  {
   "cell_type": "code",
   "execution_count": 199,
   "id": "058bde3b",
   "metadata": {},
   "outputs": [],
   "source": [
    "theta = 1/3"
   ]
  },
  {
   "cell_type": "code",
   "execution_count": 200,
   "id": "1b4a2b8b",
   "metadata": {},
   "outputs": [],
   "source": [
    "df = pd.read_csv('data/AMZN_2012-06-21_34200000_57600000_orderbook_5.csv')"
   ]
  },
  {
   "cell_type": "code",
   "execution_count": 201,
   "id": "db07a0c6",
   "metadata": {},
   "outputs": [],
   "source": [
    "df.columns = ['ask price 1', 'ask size 1', 'bid price 1', 'bid size 1',\n",
    "             'ask price 2', 'ask size 2', 'bid price 2', 'bid size 2',\n",
    "             'ask price 3', 'ask size 3', 'bid price 3', 'bid size 3',\n",
    "             'ask price 4', 'ask size 4', 'bid price 4', 'bid size 4',\n",
    "             'ask price 5', 'ask size 5', 'bid price 5', 'bid size 5',]"
   ]
  },
  {
   "cell_type": "code",
   "execution_count": 202,
   "id": "1e44b2cc",
   "metadata": {
    "scrolled": true
   },
   "outputs": [],
   "source": [
    "state_indicator = (df['bid size 1'] - df['ask size 1'])/(df['bid size 1'] + df['ask size 1'] + 0.0001) #decimal number to keep set \"open\" and not include -1 and 1\n",
    "df['state indicator'] = np.floor((state_indicator + 1)* (3/2))"
   ]
  },
  {
   "cell_type": "code",
   "execution_count": 203,
   "id": "67d27006",
   "metadata": {
    "scrolled": true
   },
   "outputs": [],
   "source": [
    "df = df[relevant_rows_bool].reset_index(drop = True)"
   ]
  },
  {
   "cell_type": "code",
   "execution_count": 204,
   "id": "2417833e",
   "metadata": {},
   "outputs": [],
   "source": [
    "df.to_csv(f\"data/clean/{stock_name}_orderbook_data.csv\")"
   ]
  },
  {
   "cell_type": "markdown",
   "id": "520da663",
   "metadata": {},
   "source": [
    "# transition matrix"
   ]
  },
  {
   "cell_type": "code",
   "execution_count": 376,
   "id": "7ebafe8e",
   "metadata": {},
   "outputs": [],
   "source": [
    "def get_matrix_pos(series):\n",
    "    return((int(series[0]), int(series[1])))"
   ]
  },
  {
   "cell_type": "code",
   "execution_count": 377,
   "id": "7ed6569d",
   "metadata": {},
   "outputs": [],
   "source": [
    "df_message = pd.read_csv(f'data/clean/{stock_name}_message_data.csv', index_col=0)\n",
    "df_book = pd.read_csv(f'data/clean/{stock_name}_orderbook_data.csv', index_col=0)"
   ]
  },
  {
   "cell_type": "code",
   "execution_count": 378,
   "id": "4b43db25",
   "metadata": {},
   "outputs": [],
   "source": [
    "df_book['after event state indicator'] = df_book['state indicator'].shift(-1)\n",
    "df_book = df_book.dropna()"
   ]
  },
  {
   "cell_type": "code",
   "execution_count": 379,
   "id": "87c105e3",
   "metadata": {},
   "outputs": [],
   "source": [
    "transition_matrix_coordinates = df_book[[\"state indicator\", 'after event state indicator']].apply(get_matrix_pos, axis=1)\n",
    "transition_matrix_index = df_message['event type thesis'][:-1]"
   ]
  },
  {
   "cell_type": "code",
   "execution_count": 382,
   "id": "557c09f5",
   "metadata": {},
   "outputs": [],
   "source": [
    "transition_matrix = np.zeros((4,3,3))\n",
    "for index, coordinate in zip(transition_matrix_index, transition_matrix_coordinates):\n",
    "    transition_matrix[index][coordinate] += 1"
   ]
  },
  {
   "cell_type": "code",
   "execution_count": 383,
   "id": "2d583071",
   "metadata": {},
   "outputs": [],
   "source": [
    "factors = transition_matrix.sum(axis=(2))"
   ]
  },
  {
   "cell_type": "code",
   "execution_count": 384,
   "id": "f332882f",
   "metadata": {},
   "outputs": [],
   "source": [
    "for i,(matrix, factor) in enumerate(zip(transition_matrix, factors)):\n",
    "    transition_matrix[i] = matrix / factor.reshape(-1,1)"
   ]
  },
  {
   "cell_type": "code",
   "execution_count": 390,
   "id": "f9227eb5",
   "metadata": {},
   "outputs": [],
   "source": [
    "np.save(f\"data/transition_matrices/{stock_name}_matrix.npy\", transition_matrix)"
   ]
  },
  {
   "cell_type": "code",
   "execution_count": null,
   "id": "32a2c7f8",
   "metadata": {},
   "outputs": [],
   "source": []
  }
 ],
 "metadata": {
  "kernelspec": {
   "display_name": "Python 3 (ipykernel)",
   "language": "python",
   "name": "python3"
  },
  "language_info": {
   "codemirror_mode": {
    "name": "ipython",
    "version": 3
   },
   "file_extension": ".py",
   "mimetype": "text/x-python",
   "name": "python",
   "nbconvert_exporter": "python",
   "pygments_lexer": "ipython3",
   "version": "3.10.0"
  }
 },
 "nbformat": 4,
 "nbformat_minor": 5
}
